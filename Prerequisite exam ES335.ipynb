{
 "cells": [
  {
   "cell_type": "markdown",
   "id": "e89f65b8",
   "metadata": {},
   "source": [
    "# (Ans 1)"
   ]
  },
  {
   "cell_type": "markdown",
   "id": "febb630c",
   "metadata": {},
   "source": [
    "m*n*k multiplications and m*n*(k-1) additions.\n",
    "There would be m*n elements in the resultant matrix and for each element, there would be k multiplications and k-1 additions."
   ]
  },
  {
   "cell_type": "markdown",
   "id": "02ee3358",
   "metadata": {},
   "source": [
    "# (Ans 2) "
   ]
  },
  {
   "cell_type": "code",
   "execution_count": null,
   "id": "8facde72",
   "metadata": {},
   "outputs": [],
   "source": [
    "import numpy as np\n",
    "import time\n",
    "\n",
    "m1=np.random.randint(100,size=(10,20))\n",
    "m2=np.random.randint(100,size=(20,30))\n",
    "\n",
    "t1=time.time()\n",
    "n=len(m1)\n",
    "k=len(m2)\n",
    "m=len(m2[0])\n",
    "resultantMatrix=[]\n",
    "for c in range(n):\n",
    "    resultantRow=[]\n",
    "    for b in range(m):\n",
    "        element=0\n",
    "        for a in range(k):\n",
    "            element+=(m1[c][a]*m2[a][b])\n",
    "        resultantRow.append(element)\n",
    "    resultantMatrix.append(resultantRow)\n",
    "print(resultantMatrix)\n",
    "t2=time.time()\n",
    "\n",
    "t3=time.time()\n",
    "print(np.matmul(m1,m2))\n",
    "t4=time.time()\n",
    "\n",
    "print(\"Time by taken by loops\", t2-t1)\n",
    "print(\"Time by taken by numpy:\", t4-t3)"
   ]
  },
  {
   "cell_type": "markdown",
   "id": "56cb04db",
   "metadata": {},
   "source": [
    "Numpy is faster than python loops because it is implemented in C and parallel operations are performed on entire matrices at once unlike python loops."
   ]
  },
  {
   "cell_type": "markdown",
   "id": "8d1f8de3",
   "metadata": {},
   "source": [
    "# (Ans 3)"
   ]
  },
  {
   "cell_type": "markdown",
   "id": "06b686bf",
   "metadata": {},
   "source": [
    "Using this method, the time complexity of finding the median would be O(n²) as each pass would take time proportional to n and there would be roughly n/2 iterations of the array.\n",
    "The better method would be to sort the array (which takes n*logn time) and the middle element (if odd n) or average of the middle elements (if even n) of the array would give the median."
   ]
  },
  {
   "cell_type": "code",
   "execution_count": null,
   "id": "782f7415",
   "metadata": {},
   "outputs": [],
   "source": [
    "import numpy as np\n",
    "import time\n",
    "\n",
    "a=list(np.random.randint(100,size=1001))\n",
    "array=a.copy()\n",
    "array2=a.copy()\n",
    "n=len(a)\n",
    "\n",
    "t1=time.time()\n",
    "maxx=np.inf\n",
    "for _ in range(n//2+1):\n",
    "  ind=-1\n",
    "  maxx=current\n",
    "  current=-1*(np.inf)\n",
    "  for i in range(len(array)):\n",
    "    if array[i]>current: \n",
    "      current=array[i]\n",
    "      ind=i\n",
    "  array.pop(ind)\n",
    "if n%2:\n",
    "    print(\"Median by given method is:\", current)\n",
    "else:\n",
    "    print(\"Median by given method is:\", (maxx+current)/2)\n",
    "t2=time.time()\n",
    "print(\"Time taken by better method is:\",t2-t1)\n",
    "\n",
    "t3=time.time()\n",
    "array2.sort()\n",
    "if n%2:\n",
    "    print(\"Median by better method is:\", array2[n//2])\n",
    "else:\n",
    "    print(\"Median by given method is:\", (array2[n//2]+array2[n//2-1])/2)\n",
    "t4=time.time()\n",
    "print(\"Time taken by better method is:\",t4-t3)\n",
    "\n",
    "t5=time.time()\n",
    "print(\"Median by numpy is:\", np.median(a))\n",
    "t6=time.time()\n",
    "print(\"Time taken by numpy is:\",t6-t5)"
   ]
  },
  {
   "cell_type": "markdown",
   "id": "0fe04ac7",
   "metadata": {},
   "source": [
    "# (Ans 4)"
   ]
  },
  {
   "cell_type": "markdown",
   "id": "5ac42076",
   "metadata": {},
   "source": [
    "Gradient wrt x is 2xy+y³cos(x) and Gradient wrt y is x²+3y²sin(x)."
   ]
  },
  {
   "cell_type": "markdown",
   "id": "15493f45",
   "metadata": {},
   "source": [
    "# (Ans 5/6)"
   ]
  },
  {
   "cell_type": "code",
   "execution_count": null,
   "id": "bc41b41e",
   "metadata": {},
   "outputs": [],
   "source": [
    "import jax\n",
    "import numpy as np\n",
    "import sympy as sp\n",
    "\n",
    "x=float(np.random.randint(100))\n",
    "y=float(np.random.randint(100))\n",
    "print(\"x is:\",x)\n",
    "print(\"y is:\",y,\"\\n\")\n",
    "\n",
    "print(\"Gradient wrt x:\", 2*x*y+y**3*np.cos(x))\n",
    "print(\"Gradient wrt y:\", x**2+3*y**2*np.sin(x),\"\\n\")\n",
    "def equation(x, y):\n",
    "    return x**2 * y + y**3 * jax.numpy.sin(x)\n",
    "gradient=jax.grad(equation, (0, 1))\n",
    "a,b=gradient(x,y)\n",
    "\n",
    "x = sp.symbols('x')\n",
    "y = sp.symbols('y')\n",
    "expression = x**2 * y + y**3 * sp.sin(x)\n",
    "dx=sp.diff(expression, x)\n",
    "dy=sp.diff(expression, y)\n",
    "\n",
    "print(\"Gradient wrt x using jax:\",a)\n",
    "print(\"Gradient wrt y using jax:\",b,\"\\n\")\n",
    "\n",
    "print(\"Gradient wrt x using sympy:\",dx)\n",
    "print(\"Gradient wrt y using sympy:\",dy)"
   ]
  },
  {
   "cell_type": "markdown",
   "id": "622c2e32",
   "metadata": {},
   "source": [
    "# (Ans 9)"
   ]
  },
  {
   "cell_type": "code",
   "execution_count": null,
   "id": "1dfa9c60",
   "metadata": {},
   "outputs": [],
   "source": [
    "import matplotlib.pyplot as plt\n",
    "import numpy as np\n",
    "\n",
    "x = np.arange(0.5, 100.5, 0.5)\n",
    "\n",
    "plt.plot(x, x, label=\"x\")\n",
    "plt.plot(x, x**2, label=\"x²\")\n",
    "plt.plot(x, x**3/100, label=\"x^3/100\")\n",
    "plt.plot(x, np.sin(x), label=\"sin(x)\")\n",
    "plt.plot(x, np.sin(x)/x, label=\"sin(x)/x\")\n",
    "plt.plot(x, np.log(x), label=\"log(x)\")\n",
    "plt.plot(x, np.exp(x), label=\"e^x\")\n",
    "plt.xlabel('x')\n",
    "plt.ylabel('y')\n",
    "plt.legend()\n",
    "plt.ylim(-1, 100)\n",
    "plt.show()"
   ]
  },
  {
   "cell_type": "markdown",
   "id": "2d44e38e",
   "metadata": {},
   "source": [
    "# (Ans 10/11)"
   ]
  },
  {
   "cell_type": "code",
   "execution_count": null,
   "id": "0dc2a6b4",
   "metadata": {},
   "outputs": [],
   "source": [
    "import numpy as np\n",
    "import pandas as pd\n",
    "\n",
    "matrix=np.random.uniform(1,2,size=(20,5))\n",
    "\n",
    "df=pd.DataFrame(matrix,columns=[\"a\",\"b\",\"c\",\"d\",\"e\"])\n",
    "standard_dev=df.std().idxmax()\n",
    "mean=df.mean(axis=1).idxmin()\n",
    "\n",
    "print(df)\n",
    "print()\n",
    "print(\"standard deviation:\", standard_dev)\n",
    "print()\n",
    "print(\"lowest mean:\", mean)\n",
    "\n",
    "df[\"f\"]=df[[\"a\",\"b\",\"c\",\"d\",\"e\"]].sum(axis=1)\n",
    "df[\"g\"]=np.where(df[\"f\"]<8,\"LT8\",\"GT8\")\n",
    "\n",
    "x=df[df[\"g\"]==\"LT8\"].shape[0]\n",
    "dev1=df.loc[df[\"g\"]==\"LT8\",\"f\"].std()\n",
    "dev2=df.loc[df[\"g\"]==\"GT8\",\"f\"].std()"
   ]
  },
  {
   "cell_type": "markdown",
   "id": "207ea8cd",
   "metadata": {},
   "source": [
    "# (Ans 13)"
   ]
  },
  {
   "cell_type": "code",
   "execution_count": null,
   "id": "8447e331",
   "metadata": {},
   "outputs": [],
   "source": [
    "import numpy as np\n",
    "\n",
    "array=np.random.randint(0, 100, size=1000)\n",
    "ind=0\n",
    "val=array[0]\n",
    "\n",
    "for i in range(1,len(array)):\n",
    "    if array[i]<val:\n",
    "        ind=i\n",
    "        val=array[i]\n",
    "        \n",
    "print(\"argmin of array:\",ind)\n",
    "print(\"argmin of array by numpy:\",np.argmin(array))"
   ]
  }
 ],
 "metadata": {
  "kernelspec": {
   "display_name": "Python 3 (ipykernel)",
   "language": "python",
   "name": "python3"
  },
  "language_info": {
   "codemirror_mode": {
    "name": "ipython",
    "version": 3
   },
   "file_extension": ".py",
   "mimetype": "text/x-python",
   "name": "python",
   "nbconvert_exporter": "python",
   "pygments_lexer": "ipython3",
   "version": "3.7.5"
  }
 },
 "nbformat": 4,
 "nbformat_minor": 5
}
